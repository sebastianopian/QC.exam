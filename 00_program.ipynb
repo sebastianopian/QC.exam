{
 "cells": [
  {
   "cell_type": "code",
   "execution_count": 34,
   "metadata": {},
   "outputs": [
    {
     "ename": "TypeError",
     "evalue": "transpile() got an unexpected keyword argument 'shots'",
     "output_type": "error",
     "traceback": [
      "\u001b[0;31m---------------------------------------------------------------------------\u001b[0m",
      "\u001b[0;31mTypeError\u001b[0m                                 Traceback (most recent call last)",
      "Cell \u001b[0;32mIn[34], line 53\u001b[0m\n\u001b[1;32m     50\u001b[0m noise_model \u001b[38;5;241m=\u001b[39m create_noise_model(p_amplitude, p_depolarizing)\n\u001b[1;32m     52\u001b[0m \u001b[38;5;66;03m# Simulazione\u001b[39;00m\n\u001b[0;32m---> 53\u001b[0m counts \u001b[38;5;241m=\u001b[39m \u001b[43msimulate_circuit\u001b[49m\u001b[43m(\u001b[49m\u001b[43mqc\u001b[49m\u001b[43m,\u001b[49m\u001b[43m \u001b[49m\u001b[43mnoise_model\u001b[49m\u001b[43m)\u001b[49m\n\u001b[1;32m     54\u001b[0m variance \u001b[38;5;241m=\u001b[39m calculate_variance(counts, shots)\n\u001b[1;32m     56\u001b[0m \u001b[38;5;66;03m# Risultati\u001b[39;00m\n",
      "Cell \u001b[0;32mIn[34], line 32\u001b[0m, in \u001b[0;36msimulate_circuit\u001b[0;34m(qc, noise_model, shots)\u001b[0m\n\u001b[1;32m     30\u001b[0m \u001b[38;5;28;01mdef\u001b[39;00m \u001b[38;5;21msimulate_circuit\u001b[39m(qc, noise_model, shots\u001b[38;5;241m=\u001b[39m\u001b[38;5;241m1024\u001b[39m):\n\u001b[1;32m     31\u001b[0m     simulator \u001b[38;5;241m=\u001b[39m AerSimulator(noise_model\u001b[38;5;241m=\u001b[39mnoise_model)  \u001b[38;5;66;03m# Simulatore Aer con rumore\u001b[39;00m\n\u001b[0;32m---> 32\u001b[0m     result \u001b[38;5;241m=\u001b[39m \u001b[43mtranspile\u001b[49m\u001b[43m(\u001b[49m\u001b[43mqc\u001b[49m\u001b[43m,\u001b[49m\u001b[43m \u001b[49m\u001b[43msimulator\u001b[49m\u001b[43m,\u001b[49m\u001b[43m \u001b[49m\u001b[43mshots\u001b[49m\u001b[38;5;241;43m=\u001b[39;49m\u001b[43mshots\u001b[49m\u001b[43m)\u001b[49m\u001b[38;5;241m.\u001b[39mresult()\n\u001b[1;32m     33\u001b[0m     counts \u001b[38;5;241m=\u001b[39m result\u001b[38;5;241m.\u001b[39mget_counts()\n\u001b[1;32m     34\u001b[0m     \u001b[38;5;28;01mreturn\u001b[39;00m counts\n",
      "\u001b[0;31mTypeError\u001b[0m: transpile() got an unexpected keyword argument 'shots'"
     ]
    }
   ],
   "source": [
    "import qiskit\n",
    "from qiskit import QuantumCircuit\n",
    "from qiskit_aer import AerSimulator\n",
    "from qiskit_aer.noise import (NoiseModel, amplitude_damping_error, depolarizing_error)\n",
    "import numpy as np\n",
    "from qiskit import transpile\n",
    "\n",
    "# Definire il circuito quantistico\n",
    "def create_circuit():\n",
    "    qc = QuantumCircuit(1, 1)  # 1 qubit, 1 bit classico\n",
    "    qc.h(0)  # Porta Hadamard\n",
    "    qc.measure(0, 0)  # Misurazione\n",
    "    return qc\n",
    "\n",
    "# Creare un modello di rumore con amplitude damping (rumore non unital)\n",
    "def create_noise_model(p_amplitude, p_depolarizing):\n",
    "    noise_model = NoiseModel()\n",
    "    \n",
    "    # Amplitude Damping Error (non unital)\n",
    "    amplitude_error = amplitude_damping_error(p_amplitude)\n",
    "    noise_model.add_quantum_error(amplitude_error, ['h'], [0])  # Applicare il rumore alla porta Hadamard\n",
    "\n",
    "    # Depolarizing Error (aggiuntivo, unital)\n",
    "    depolarizing_error_instance = depolarizing_error(p_depolarizing, 1)\n",
    "    noise_model.add_all_qubit_quantum_error(depolarizing_error_instance, ['measure'])  # Misura rumorosa\n",
    "    \n",
    "    return noise_model\n",
    "\n",
    "# Simulazione con rumore\n",
    "def simulate_circuit(qc, noise_model, shots=1024):\n",
    "    simulator = AerSimulator(noise_model=noise_model)  # Simulatore Aer con rumore\n",
    "    result = transpile(qc, simulator).result()\n",
    "    counts = result.get_counts()\n",
    "    return counts\n",
    "\n",
    "# Calcolo della varianza delle misurazioni\n",
    "def calculate_variance(counts, shots):\n",
    "    p0 = counts.get('0', 0) / shots\n",
    "    p1 = counts.get('1', 0) / shots\n",
    "    variance = p0 * (1 - p0) + p1 * (1 - p1)  # Varianza binomiale\n",
    "    return variance\n",
    "\n",
    "# Parametri\n",
    "p_amplitude = 0.1  # Probabilità di damping\n",
    "p_depolarizing = 0.02  # Probabilità di errore depolarizzante\n",
    "shots = 1024\n",
    "\n",
    "# Creazione del circuito e modello di rumore\n",
    "qc = create_circuit()\n",
    "noise_model = create_noise_model(p_amplitude, p_depolarizing)\n",
    "\n",
    "# Simulazione\n",
    "counts = simulate_circuit(qc, noise_model)\n",
    "variance = calculate_variance(counts, shots)\n",
    "\n",
    "# Risultati\n",
    "print(\"Risultati della simulazione (con rumore):\", counts)\n",
    "print(\"Varianza delle misurazioni:\", variance)"
   ]
  },
  {
   "cell_type": "markdown",
   "metadata": {},
   "source": []
  }
 ],
 "metadata": {
  "kernelspec": {
   "display_name": "Python 3",
   "language": "python",
   "name": "python3"
  },
  "language_info": {
   "codemirror_mode": {
    "name": "ipython",
    "version": 3
   },
   "file_extension": ".py",
   "mimetype": "text/x-python",
   "name": "python",
   "nbconvert_exporter": "python",
   "pygments_lexer": "ipython3",
   "version": "3.9.6"
  }
 },
 "nbformat": 4,
 "nbformat_minor": 2
}
