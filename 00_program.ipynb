{
 "cells": [
  {
   "cell_type": "code",
   "execution_count": 95,
   "metadata": {},
   "outputs": [
    {
     "name": "stdout",
     "output_type": "stream",
     "text": [
      "Risultati della simulazione (con rumore): {'1': 481, '0': 543}\n",
      "Varianza delle misurazioni: 0.0971379\n"
     ]
    },
    {
     "data": {
      "image/png": "[encoded data removed]",
      "text/plain": [
       "<Figure size 538.33x367.889 with 1 Axes>"
      ]
     },
     "execution_count": 95,
     "metadata": {},
     "output_type": "execute_result"
    }
   ],
   "source": [
    "import qiskit\n",
    "from qiskit import QuantumCircuit\n",
    "from qiskit_aer import AerSimulator\n",
    "from qiskit_aer.noise import (NoiseModel, amplitude_damping_error, depolarizing_error)\n",
    "import numpy as np\n",
    "from qiskit import transpile\n",
    "\n",
    "# Definire il circuito quantistico\n",
    "def create_circuit():\n",
    "    qc = QuantumCircuit(3, 1)  # 3 qubit, 1 bit classico\n",
    "    qc.h(0)\n",
    "    qc.h(1)\n",
    "    qc.h(2)\n",
    "    \n",
    "    # Aggiungi il gate di rumore depolarizzante come un gate \"extra\" sul primo qubit (opzionale, può essere applicato ad altri qubit)\n",
    "    depol_error = depolarizing_error(0.1, 1)  # Probabilità 0.1 per l'errore depolarizzante\n",
    "    qc.append(depol_error, [0])  # Applica il gate di rumore al primo qubit\n",
    "    \n",
    "    qc.measure(0, 0)  # Misurazione\n",
    "    return qc\n",
    "\n",
    "# Creare un modello di rumore con amplitude damping (rumore non unital)\n",
    "def create_noise_model(p_amplitude, p_depolarizing):\n",
    "    noise_model = NoiseModel()\n",
    "    \n",
    "    # Amplitude Damping Error (non unital)\n",
    "    amplitude_error = amplitude_damping_error(p_amplitude)\n",
    "    noise_model.add_quantum_error(amplitude_error, ['h'], [0])  # Applicare il rumore alla porta Hadamard\n",
    "    \n",
    "    # Depolarizing Error (aggiuntivo, unital)\n",
    "    depolarizing_error_instance = depolarizing_error(p_depolarizing, 1)\n",
    "    noise_model.add_all_qubit_quantum_error(depolarizing_error_instance, ['measure'])  # Misura rumorosa\n",
    "    \n",
    "    return noise_model\n",
    "\n",
    "# Simulazione con rumore\n",
    "def simulate_circuit(qc, noise_model, shots=1024):\n",
    "    simulator = AerSimulator(noise_model=noise_model)  # Simulatore Aer con rumore\n",
    "    result = simulator.run(qc, shots=shots).result()  # Run the circuit directly without transpiling\n",
    "    counts = result.get_counts()\n",
    "    return counts\n",
    "\n",
    "# Calcolo della varianza delle misurazioni\n",
    "def calculate_variance(counts, shots):\n",
    "    p0 = counts.get('0', 0) / shots\n",
    "    p1 = counts.get('1', 0) / shots\n",
    "    variance = p0 * (1 - p0) + p1 * (1 - p1)  # Varianza binomiale\n",
    "    return variance\n",
    "\n",
    "# Parametri\n",
    "p_amplitude = 0.1  # Probabilità di damping\n",
    "p_depolarizing = 0.1  # Probabilità di errore depolarizzante\n",
    "shots = 10000\n",
    "\n",
    "# Creazione del circuito e modello di rumore\n",
    "qc = create_circuit()\n",
    "noise_model = create_noise_model(p_amplitude, p_depolarizing)\n",
    "\n",
    "# Simulazione\n",
    "counts = simulate_circuit(qc, noise_model)\n",
    "variance = calculate_variance(counts, shots)\n",
    "\n",
    "# Risultati\n",
    "print(\"Risultati della simulazione (con rumore):\", counts)\n",
    "print(\"Varianza delle misurazioni:\", variance)\n",
    "\n",
    "# Disegnare il circuito\n",
    "qc.draw('mpl')\n"
   ]
  },
  {
   "cell_type": "markdown",
   "metadata": {},
   "source": []
  }
 ],
 "metadata": {
  "kernelspec": {
   "display_name": "Python 3",
   "language": "python",
   "name": "python3"
  },
  "language_info": {
   "codemirror_mode": {
    "name": "ipython",
    "version": 3
   },
   "file_extension": ".py",
   "mimetype": "text/x-python",
   "name": "python",
   "nbconvert_exporter": "python",
   "pygments_lexer": "ipython3",
   "version": "3.9.6"
  }
 },
 "nbformat": 4,
 "nbformat_minor": 2
}
