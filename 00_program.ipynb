{
  "cells": [
    {
      "cell_type": "code",
      "execution_count": null,
      "metadata": {
        "id": "4Dw7NsekzaaW"
      },
      "outputs": [],
      "source": []
    },
    {
      "cell_type": "markdown",
      "metadata": {
        "id": "avJeZ9zTzaaW"
      },
      "source": []
    },
    {
      "cell_type": "code",
      "execution_count": 25,
      "metadata": {
        "id": "XQjySL_BzaaX"
      },
      "outputs": [],
      "source": []
    },
    {
      "cell_type": "code",
      "execution_count": null,
      "metadata": {
        "id": "c8TXV1QZzaaX",
        "outputId": "4ea61541-4f96-450b-d095-8b0f1031750b"
      },
      "outputs": [
        {
          "ename": "QiskitError",
          "evalue": "'Kraus operators are different dimensions.'",
          "output_type": "error",
          "traceback": [
            "\u001b[1;31m---------------------------------------------------------------------------\u001b[0m",
            "\u001b[1;31mQiskitError\u001b[0m                               Traceback (most recent call last)",
            "Cell \u001b[1;32mIn[49], line 27\u001b[0m\n\u001b[0;32m     22\u001b[0m   qc\u001b[38;5;241m.\u001b[39mcx(i\u001b[38;5;241m+\u001b[39m\u001b[38;5;241m1\u001b[39m, i\u001b[38;5;241m+\u001b[39m\u001b[38;5;241m2\u001b[39m)  \u001b[38;5;66;03m# Entanglement con una CNOT\u001b[39;00m\n\u001b[0;32m     23\u001b[0m   qc\u001b[38;5;241m.\u001b[39mcx(i\u001b[38;5;241m-\u001b[39m\u001b[38;5;241m1\u001b[39m, i)  \u001b[38;5;66;03m# Entanglement con una CNOT\u001b[39;00m\n\u001b[1;32m---> 27\u001b[0m multi_qubit_channel \u001b[38;5;241m=\u001b[39m Kraus([K0, K1])\n\u001b[0;32m     31\u001b[0m rho \u001b[38;5;241m=\u001b[39m DensityMatrix(qc)\n\u001b[0;32m     32\u001b[0m rho\u001b[38;5;241m.\u001b[39mdraw(\u001b[38;5;124m'\u001b[39m\u001b[38;5;124mlatex\u001b[39m\u001b[38;5;124m'\u001b[39m, prefix\u001b[38;5;241m=\u001b[39m\u001b[38;5;124m'\u001b[39m\u001b[38;5;130;01m\\\\\u001b[39;00m\u001b[38;5;124mrho\u001b[39m\u001b[38;5;124m'\u001b[39m)\n",
            "File \u001b[1;32mc:\\Users\\Matteo\\anaconda3\\Lib\\site-packages\\qiskit\\quantum_info\\operators\\channel\\kraus.py:112\u001b[0m, in \u001b[0;36mKraus.__init__\u001b[1;34m(self, data, input_dims, output_dims)\u001b[0m\n\u001b[0;32m    110\u001b[0m     op \u001b[38;5;241m=\u001b[39m np\u001b[38;5;241m.\u001b[39masarray(i, dtype\u001b[38;5;241m=\u001b[39m\u001b[38;5;28mcomplex\u001b[39m)\n\u001b[0;32m    111\u001b[0m     \u001b[38;5;28;01mif\u001b[39;00m op\u001b[38;5;241m.\u001b[39mshape \u001b[38;5;241m!=\u001b[39m shape:\n\u001b[1;32m--> 112\u001b[0m         \u001b[38;5;28;01mraise\u001b[39;00m QiskitError(\u001b[38;5;124m\"\u001b[39m\u001b[38;5;124mKraus operators are different dimensions.\u001b[39m\u001b[38;5;124m\"\u001b[39m)\n\u001b[0;32m    113\u001b[0m     kraus\u001b[38;5;241m.\u001b[39mappend(op)\n\u001b[0;32m    114\u001b[0m \u001b[38;5;66;03m# Convert single Kraus set to general Kraus pair\u001b[39;00m\n",
            "\u001b[1;31mQiskitError\u001b[0m: 'Kraus operators are different dimensions.'"
          ]
        }
      ],
      "source": [
        "from qiskit.quantum_info import DensityMatrix\n",
        "import numpy as np\n",
        "import matplotlib.pyplot as plt\n",
        "from qiskit import QuantumCircuit, transpile\n",
        "from qiskit_aer import Aer\n",
        "from qiskit.quantum_info import Kraus, SuperOp\n",
        "\n",
        "n=4\n",
        "shots = 100000\n",
        "theta=0.3\n",
        "# Operatori di Kraus: Identità e Hadamard su entrambi i qubit\n",
        "\n",
        "\n",
        "# Creazione del canale quantistico multi-qubit\n",
        "\n",
        "\n",
        "# Creazione di un circuito quantistico su 2 qubit\n",
        "qc = QuantumCircuit(n, 2)\n",
        "qc.cx(0,1)\n",
        "\n",
        "for i in range(n-2):\n",
        "  qc.cx(i+1, i+2)  # Entanglement con una CNOT\n",
        "  qc.cx(i-1, i)  # Entanglement con una CNOT\n",
        "\n",
        "\n",
        "\n",
        "multi_qubit_channel = Kraus([K0, K1])\n",
        "\n",
        "\n",
        "\n",
        "rho = DensityMatrix(qc)\n",
        "rho.draw('latex', prefix='\\\\rho')\n",
        "\n",
        "\n"
      ]
    },
    {
      "cell_type": "code",
      "execution_count": 26,
      "metadata": {
        "id": "Jm99dLdqzaac",
        "outputId": "0c47b9eb-4091-4a65-9e51-c30cdcb3311c",
        "colab": {
          "base_uri": "https://localhost:8080/",
          "height": 367
        }
      },
      "outputs": [
        {
          "output_type": "error",
          "ename": "CircuitError",
          "evalue": "'The amount of qubit arguments 2 does not match the instruction expectation (3).'",
          "traceback": [
            "\u001b[0;31m---------------------------------------------------------------------------\u001b[0m",
            "\u001b[0;31mCircuitError\u001b[0m                              Traceback (most recent call last)",
            "\u001b[0;32m<ipython-input-26-1a23ff359960>\u001b[0m in \u001b[0;36m<cell line: 0>\u001b[0;34m()\u001b[0m\n\u001b[1;32m      1\u001b[0m \u001b[0;32mimport\u001b[0m \u001b[0mqiskit\u001b[0m\u001b[0;34m.\u001b[0m\u001b[0mquantum_info\u001b[0m \u001b[0;32mas\u001b[0m \u001b[0mqi\u001b[0m\u001b[0;34m\u001b[0m\u001b[0;34m\u001b[0m\u001b[0m\n\u001b[1;32m      2\u001b[0m \u001b[0;31m# Applicazione del canale quantistico collettivo\u001b[0m\u001b[0;34m\u001b[0m\u001b[0;34m\u001b[0m\u001b[0m\n\u001b[0;32m----> 3\u001b[0;31m \u001b[0mqc\u001b[0m\u001b[0;34m.\u001b[0m\u001b[0mappend\u001b[0m\u001b[0;34m(\u001b[0m\u001b[0mSuperOp\u001b[0m\u001b[0;34m(\u001b[0m\u001b[0mmulti_qubit_channel\u001b[0m\u001b[0;34m)\u001b[0m\u001b[0;34m,\u001b[0m \u001b[0;34m[\u001b[0m\u001b[0;36m0\u001b[0m\u001b[0;34m,\u001b[0m \u001b[0;36m1\u001b[0m\u001b[0;34m]\u001b[0m\u001b[0;34m)\u001b[0m\u001b[0;34m\u001b[0m\u001b[0;34m\u001b[0m\u001b[0m\n\u001b[0m\u001b[1;32m      4\u001b[0m \u001b[0;34m\u001b[0m\u001b[0m\n\u001b[1;32m      5\u001b[0m \u001b[0;34m\u001b[0m\u001b[0m\n",
            "\u001b[0;32m/usr/local/lib/python3.11/dist-packages/qiskit/circuit/quantumcircuit.py\u001b[0m in \u001b[0;36mappend\u001b[0;34m(self, instruction, qargs, cargs, copy)\u001b[0m\n\u001b[1;32m   2552\u001b[0m         )\n\u001b[1;32m   2553\u001b[0m         \u001b[0mbase_instruction\u001b[0m \u001b[0;34m=\u001b[0m \u001b[0mCircuitInstruction\u001b[0m\u001b[0;34m(\u001b[0m\u001b[0moperation\u001b[0m\u001b[0;34m,\u001b[0m \u001b[0;34m(\u001b[0m\u001b[0;34m)\u001b[0m\u001b[0;34m,\u001b[0m \u001b[0;34m(\u001b[0m\u001b[0;34m)\u001b[0m\u001b[0;34m)\u001b[0m\u001b[0;34m\u001b[0m\u001b[0;34m\u001b[0m\u001b[0m\n\u001b[0;32m-> 2554\u001b[0;31m         \u001b[0;32mfor\u001b[0m \u001b[0mqarg\u001b[0m\u001b[0;34m,\u001b[0m \u001b[0mcarg\u001b[0m \u001b[0;32min\u001b[0m \u001b[0mbroadcast_iter\u001b[0m\u001b[0;34m:\u001b[0m\u001b[0;34m\u001b[0m\u001b[0;34m\u001b[0m\u001b[0m\n\u001b[0m\u001b[1;32m   2555\u001b[0m             \u001b[0mself\u001b[0m\u001b[0;34m.\u001b[0m\u001b[0m_check_dups\u001b[0m\u001b[0;34m(\u001b[0m\u001b[0mqarg\u001b[0m\u001b[0;34m)\u001b[0m\u001b[0;34m\u001b[0m\u001b[0;34m\u001b[0m\u001b[0m\n\u001b[1;32m   2556\u001b[0m             \u001b[0minstruction\u001b[0m \u001b[0;34m=\u001b[0m \u001b[0mbase_instruction\u001b[0m\u001b[0;34m.\u001b[0m\u001b[0mreplace\u001b[0m\u001b[0;34m(\u001b[0m\u001b[0mqubits\u001b[0m\u001b[0;34m=\u001b[0m\u001b[0mqarg\u001b[0m\u001b[0;34m,\u001b[0m \u001b[0mclbits\u001b[0m\u001b[0;34m=\u001b[0m\u001b[0mcarg\u001b[0m\u001b[0;34m)\u001b[0m\u001b[0;34m\u001b[0m\u001b[0;34m\u001b[0m\u001b[0m\n",
            "\u001b[0;32m/usr/local/lib/python3.11/dist-packages/qiskit/circuit/instruction.py\u001b[0m in \u001b[0;36mbroadcast_arguments\u001b[0;34m(self, qargs, cargs)\u001b[0m\n\u001b[1;32m    580\u001b[0m         \"\"\"\n\u001b[1;32m    581\u001b[0m         \u001b[0;32mif\u001b[0m \u001b[0mlen\u001b[0m\u001b[0;34m(\u001b[0m\u001b[0mqargs\u001b[0m\u001b[0;34m)\u001b[0m \u001b[0;34m!=\u001b[0m \u001b[0mself\u001b[0m\u001b[0;34m.\u001b[0m\u001b[0mnum_qubits\u001b[0m\u001b[0;34m:\u001b[0m\u001b[0;34m\u001b[0m\u001b[0;34m\u001b[0m\u001b[0m\n\u001b[0;32m--> 582\u001b[0;31m             raise CircuitError(\n\u001b[0m\u001b[1;32m    583\u001b[0m                 \u001b[0;34mf\"The amount of qubit arguments {len(qargs)} does not match\"\u001b[0m\u001b[0;34m\u001b[0m\u001b[0;34m\u001b[0m\u001b[0m\n\u001b[1;32m    584\u001b[0m                 \u001b[0;34mf\" the instruction expectation ({self.num_qubits}).\"\u001b[0m\u001b[0;34m\u001b[0m\u001b[0;34m\u001b[0m\u001b[0m\n",
            "\u001b[0;31mCircuitError\u001b[0m: 'The amount of qubit arguments 2 does not match the instruction expectation (3).'"
          ]
        }
      ],
      "source": [
        "import qiskit.quantum_info as qi\n",
        "# Applicazione del canale quantistico collettivo\n",
        "qc.append(SuperOp(multi_qubit_channel), [0, 1])\n",
        "\n",
        "\n",
        "rho_AB = qi.DensityMatrix.from_instruction(qc)\n",
        "rho_AB.draw('latex', prefix='\\\\phi(\\\\rho) = ')\n",
        "\n"
      ]
    },
    {
      "cell_type": "code",
      "execution_count": null,
      "metadata": {
        "id": "zbCUol5Rzaac",
        "outputId": "eac2e4f0-a324-4dc9-a1a6-028312891ab3"
      },
      "outputs": [
        {
          "data": {
            "image/png": "[encoded data removed]",
            "text/plain": [
              "<Figure size 600x400 with 1 Axes>"
            ]
          },
          "metadata": {},
          "output_type": "display_data"
        },
        {
          "data": {
            "image/png": "[encoded data removed]",
            "text/plain": [
              "<Figure size 621.941x451.5 with 1 Axes>"
            ]
          },
          "execution_count": 51,
          "metadata": {},
          "output_type": "execute_result"
        }
      ],
      "source": [
        "# Misura dei qubit\n",
        "qc.measure([0, 1], [0, 1])\n",
        "\n",
        "\n",
        "# Simulazione\n",
        "simulator = Aer.get_backend('aer_simulator')\n",
        "qc = transpile(qc, simulator)\n",
        "result = simulator.run(qc, shots=shots ).result()\n",
        "\n",
        "counts = result.get_counts()\n",
        "\n",
        "# Plot dei risultati\n",
        "plt.figure(figsize=(6,4))\n",
        "plt.bar(counts.keys(), counts.values(), color='royalblue')\n",
        "plt.xlabel(\"Stati misurati\")\n",
        "plt.ylabel(\"Occorrenze\")\n",
        "plt.title(\"Risultati della simulazione con il canale Hadamard\")\n",
        "plt.show()\n",
        "qc.draw(output='mpl')\n",
        "\n"
      ]
    },
    {
      "cell_type": "code",
      "execution_count": null,
      "metadata": {
        "id": "C1R_rh9Hzaad",
        "outputId": "de0e2b00-ed6f-46cd-e212-c2eaa4268bc4"
      },
      "outputs": [
        {
          "name": "stdout",
          "output_type": "stream",
          "text": [
            "Matrice Z:\n",
            " [[ 1  0  0  0]\n",
            " [ 0 -1  0  0]\n",
            " [ 0  0 -1  0]\n",
            " [ 0  0  0  1]]\n",
            "\n",
            "Prodotto rho * Z:\n",
            " [[ 4.89299487e-01+0.00000000e+00j  0.00000000e+00+0.00000000e+00j\n",
            "  -4.29901420e-01+1.27044557e-01j  0.00000000e+00+0.00000000e+00j]\n",
            " [ 0.00000000e+00+0.00000000e+00j -4.56333904e-02+0.00000000e+00j\n",
            "  -1.93746982e-33+0.00000000e+00j  4.77668245e-02+1.41160618e-02j]\n",
            " [ 4.29901420e-01+1.27044557e-01j -1.93746982e-33+0.00000000e+00j\n",
            "  -4.10700513e-01+0.00000000e+00j  2.02804963e-33+5.99329647e-34j]\n",
            " [ 0.00000000e+00+0.00000000e+00j -4.77668245e-02+1.41160618e-02j\n",
            "  -2.02804963e-33+5.99329647e-34j  5.43666096e-02+0.00000000e+00j]]\n",
            "\n",
            "Traccia di rho * Z: (0.08733219254516078+0j)\n"
          ]
        }
      ],
      "source": [
        "\n",
        "# Definizione della matrice Z\n",
        "Z = np.array([[1, 0,  0,  0],\n",
        "              [0, -1, 0,  0],\n",
        "              [0, 0, -1,  0],\n",
        "              [0, 0,  0,  1]])\n",
        "\n",
        "print(\"Matrice Z:\\n\", Z)\n",
        "\n",
        "# Calcoliamo il prodotto rho * Z\n",
        "rho_Z = np.dot(rho_AB, Z)\n",
        "\n",
        "print(\"\\nProdotto rho * Z:\\n\", rho_Z)\n",
        "\n",
        "# Calcoliamo la traccia di rho_Z\n",
        "trace_rho_Z = np.trace(rho_Z)\n",
        "\n",
        "print(\"\\nTraccia di rho * Z:\", trace_rho_Z)"
      ]
    },
    {
      "cell_type": "code",
      "execution_count": null,
      "metadata": {
        "id": "Jn1329Mvzaad",
        "outputId": "db56a9f9-19dc-4723-a365-c1ac6e9a2145"
      },
      "outputs": [
        {
          "ename": "QiskitError",
          "evalue": "'Cannot convert QuantumChannel to Instruction: channel is not CPTP.'",
          "output_type": "error",
          "traceback": [
            "\u001b[1;31m---------------------------------------------------------------------------\u001b[0m",
            "\u001b[1;31mQiskitError\u001b[0m                               Traceback (most recent call last)",
            "Cell \u001b[1;32mIn[53], line 3\u001b[0m\n\u001b[0;32m      1\u001b[0m \u001b[38;5;28;01mimport\u001b[39;00m \u001b[38;5;21;01mqiskit\u001b[39;00m\u001b[38;5;21;01m.\u001b[39;00m\u001b[38;5;21;01mquantum_info\u001b[39;00m \u001b[38;5;28;01mas\u001b[39;00m \u001b[38;5;21;01mqi\u001b[39;00m\n\u001b[0;32m      2\u001b[0m \u001b[38;5;66;03m# Applicazione del canale quantistico collettivo\u001b[39;00m\n\u001b[1;32m----> 3\u001b[0m qc\u001b[38;5;241m.\u001b[39mappend(SuperOp(multi_qubit_channel), [\u001b[38;5;241m0\u001b[39m, \u001b[38;5;241m1\u001b[39m])\n\u001b[0;32m      6\u001b[0m rho_AB \u001b[38;5;241m=\u001b[39m qi\u001b[38;5;241m.\u001b[39mDensityMatrix\u001b[38;5;241m.\u001b[39mfrom_instruction(qc)\n\u001b[0;32m      7\u001b[0m rho_AB\u001b[38;5;241m.\u001b[39mdraw(\u001b[38;5;124m'\u001b[39m\u001b[38;5;124mlatex\u001b[39m\u001b[38;5;124m'\u001b[39m, prefix\u001b[38;5;241m=\u001b[39m\u001b[38;5;124m'\u001b[39m\u001b[38;5;130;01m\\\\\u001b[39;00m\u001b[38;5;124mphi(\u001b[39m\u001b[38;5;130;01m\\\\\u001b[39;00m\u001b[38;5;124mrho) = \u001b[39m\u001b[38;5;124m'\u001b[39m)\n",
            "File \u001b[1;32mc:\\Users\\Matteo\\anaconda3\\Lib\\site-packages\\qiskit\\circuit\\quantumcircuit.py:2503\u001b[0m, in \u001b[0;36mQuantumCircuit.append\u001b[1;34m(self, instruction, qargs, cargs, copy)\u001b[0m\n\u001b[0;32m   2501\u001b[0m \u001b[38;5;28;01mif\u001b[39;00m \u001b[38;5;129;01mnot\u001b[39;00m \u001b[38;5;28misinstance\u001b[39m(operation, Operation):\n\u001b[0;32m   2502\u001b[0m     \u001b[38;5;28;01mif\u001b[39;00m \u001b[38;5;28mhasattr\u001b[39m(operation, \u001b[38;5;124m\"\u001b[39m\u001b[38;5;124mto_instruction\u001b[39m\u001b[38;5;124m\"\u001b[39m):\n\u001b[1;32m-> 2503\u001b[0m         operation \u001b[38;5;241m=\u001b[39m operation\u001b[38;5;241m.\u001b[39mto_instruction()\n\u001b[0;32m   2504\u001b[0m         \u001b[38;5;28;01mif\u001b[39;00m \u001b[38;5;129;01mnot\u001b[39;00m \u001b[38;5;28misinstance\u001b[39m(operation, Operation):\n\u001b[0;32m   2505\u001b[0m             \u001b[38;5;28;01mraise\u001b[39;00m CircuitError(\u001b[38;5;124m\"\u001b[39m\u001b[38;5;124moperation.to_instruction() is not an Operation.\u001b[39m\u001b[38;5;124m\"\u001b[39m)\n",
            "File \u001b[1;32mc:\\Users\\Matteo\\anaconda3\\Lib\\site-packages\\qiskit\\quantum_info\\operators\\channel\\quantum_channel.py:256\u001b[0m, in \u001b[0;36mQuantumChannel.to_instruction\u001b[1;34m(self)\u001b[0m\n\u001b[0;32m    252\u001b[0m     \u001b[38;5;28;01mraise\u001b[39;00m QiskitError(\n\u001b[0;32m    253\u001b[0m         \u001b[38;5;124m\"\u001b[39m\u001b[38;5;124mCannot convert QuantumChannel to Instruction: channel is not an N-qubit channel.\u001b[39m\u001b[38;5;124m\"\u001b[39m\n\u001b[0;32m    254\u001b[0m     )\n\u001b[0;32m    255\u001b[0m \u001b[38;5;28;01mif\u001b[39;00m \u001b[38;5;129;01mnot\u001b[39;00m \u001b[38;5;28mself\u001b[39m\u001b[38;5;241m.\u001b[39mis_cptp():\n\u001b[1;32m--> 256\u001b[0m     \u001b[38;5;28;01mraise\u001b[39;00m QiskitError(\u001b[38;5;124m\"\u001b[39m\u001b[38;5;124mCannot convert QuantumChannel to Instruction: channel is not CPTP.\u001b[39m\u001b[38;5;124m\"\u001b[39m)\n\u001b[0;32m    257\u001b[0m \u001b[38;5;66;03m# Next we convert to the Kraus representation. Since channel is CPTP we know\u001b[39;00m\n\u001b[0;32m    258\u001b[0m \u001b[38;5;66;03m# that there is only a single set of Kraus operators\u001b[39;00m\n\u001b[0;32m    259\u001b[0m kraus, _ \u001b[38;5;241m=\u001b[39m _to_kraus(\u001b[38;5;28mself\u001b[39m\u001b[38;5;241m.\u001b[39m_channel_rep, \u001b[38;5;28mself\u001b[39m\u001b[38;5;241m.\u001b[39m_data, \u001b[38;5;241m*\u001b[39m\u001b[38;5;28mself\u001b[39m\u001b[38;5;241m.\u001b[39mdim)\n",
            "\u001b[1;31mQiskitError\u001b[0m: 'Cannot convert QuantumChannel to Instruction: channel is not CPTP.'"
          ]
        }
      ],
      "source": [
        "import qiskit.quantum_info as qi\n",
        "# Applicazione del canale quantistico collettivo\n",
        "qc.append(SuperOp(multi_qubit_channel), [0, 1])\n",
        "\n",
        "\n",
        "rho_AB = qi.DensityMatrix.from_instruction(qc)\n",
        "rho_AB.draw('latex', prefix='\\\\phi(\\\\rho) = ')\n",
        "\n"
      ]
    },
    {
      "cell_type": "code",
      "execution_count": null,
      "metadata": {
        "id": "0CSCCiStzaad",
        "outputId": "83a77e24-7665-4658-a7b1-e36f8cb8ec18"
      },
      "outputs": [
        {
          "name": "stdout",
          "output_type": "stream",
          "text": [
            "Osservabile H generato:\n",
            " [[ 4.5  0.   0.   0. ]\n",
            " [ 0.  -4.5  0.   0. ]\n",
            " [ 0.   0.  -4.5  0. ]\n",
            " [ 0.   0.   0.   4.5]]\n"
          ]
        },
        {
          "ename": "NoiseError",
          "evalue": "\"Invalid type of input is found around '[[0.89442719 0.         0.         0.        ]\\n [0.         0.89442719 0.         0.        ]\\n [0.         0.         0.89442719 0.        ]\\n [0.         0.         0.         0.89442719]]'\"",
          "output_type": "error",
          "traceback": [
            "\u001b[1;31m---------------------------------------------------------------------------\u001b[0m",
            "\u001b[1;31mNoiseError\u001b[0m                                Traceback (most recent call last)",
            "Cell \u001b[1;32mIn[13], line 47\u001b[0m\n\u001b[0;32m     44\u001b[0m     K2_list\u001b[38;5;241m.\u001b[39mappend(K2)\n\u001b[0;32m     45\u001b[0m kraus_ops \u001b[38;5;241m=\u001b[39m [K1] \u001b[38;5;241m+\u001b[39m K2_list\n\u001b[1;32m---> 47\u001b[0m noise_error \u001b[38;5;241m=\u001b[39m QuantumError(kraus_ops)\n\u001b[0;32m     48\u001b[0m noise_model \u001b[38;5;241m=\u001b[39m NoiseModel()\n\u001b[0;32m     49\u001b[0m noise_model\u001b[38;5;241m.\u001b[39madd_all_qubit_quantum_error(noise_error, [\u001b[38;5;124m'\u001b[39m\u001b[38;5;124mid\u001b[39m\u001b[38;5;124m'\u001b[39m])\n",
            "File \u001b[1;32mc:\\Users\\Matteo\\anaconda3\\Lib\\site-packages\\qiskit_aer\\noise\\errors\\quantum_error.py:111\u001b[0m, in \u001b[0;36mQuantumError.__init__\u001b[1;34m(self, noise_ops)\u001b[0m\n\u001b[0;32m    109\u001b[0m \u001b[38;5;28;01mfor\u001b[39;00m pair \u001b[38;5;129;01min\u001b[39;00m noise_ops:\n\u001b[0;32m    110\u001b[0m     \u001b[38;5;28;01mif\u001b[39;00m \u001b[38;5;129;01mnot\u001b[39;00m \u001b[38;5;28misinstance\u001b[39m(pair, \u001b[38;5;28mtuple\u001b[39m) \u001b[38;5;129;01mor\u001b[39;00m \u001b[38;5;28mlen\u001b[39m(pair) \u001b[38;5;241m!=\u001b[39m \u001b[38;5;241m2\u001b[39m:\n\u001b[1;32m--> 111\u001b[0m         \u001b[38;5;28;01mraise\u001b[39;00m NoiseError(\u001b[38;5;124mf\u001b[39m\u001b[38;5;124m\"\u001b[39m\u001b[38;5;124mInvalid type of input is found around \u001b[39m\u001b[38;5;124m'\u001b[39m\u001b[38;5;132;01m{\u001b[39;00mpair\u001b[38;5;132;01m}\u001b[39;00m\u001b[38;5;124m'\u001b[39m\u001b[38;5;124m\"\u001b[39m)\n\u001b[0;32m    112\u001b[0m     _, p \u001b[38;5;241m=\u001b[39m pair  \u001b[38;5;66;03m# pylint: disable=invalid-name\u001b[39;00m\n\u001b[0;32m    113\u001b[0m     \u001b[38;5;28;01mif\u001b[39;00m \u001b[38;5;129;01mnot\u001b[39;00m \u001b[38;5;28misinstance\u001b[39m(p, numbers\u001b[38;5;241m.\u001b[39mReal):\n",
            "\u001b[1;31mNoiseError\u001b[0m: \"Invalid type of input is found around '[[0.89442719 0.         0.         0.        ]\\n [0.         0.89442719 0.         0.        ]\\n [0.         0.         0.89442719 0.        ]\\n [0.         0.         0.         0.89442719]]'\""
          ]
        }
      ],
      "source": [
        "from qiskit_aer.noise import QuantumError, NoiseModel\n",
        "\n",
        "# 1. Input: numero di qubit e probabilità di rumore\n",
        "n = 2\n",
        "p = 0.2\n",
        "\n",
        "# 2. Genera l'osservabile H\n",
        "h = 9 / n\n",
        "d = 2 ** n  # dimensione dello spazio degli stati\n",
        "Z = np.array([[1, 0], [0, -1]])\n",
        "I = np.eye(2)\n",
        "\n",
        "H_mat = np.zeros((d, d))\n",
        "for k in range(0, n - 1, 2):\n",
        "    op = 1\n",
        "    for qubit in range(n):\n",
        "        if qubit == k or qubit == k + 1:\n",
        "            op = np.kron(op, Z)\n",
        "        else:\n",
        "            op = np.kron(op, I)\n",
        "    H_mat += op\n",
        "H_mat = h * H_mat\n",
        "print(\"Osservabile H generato:\\n\", H_mat)\n",
        "\n",
        "# 3. Creazione del circuito ansatz semplice\n",
        "theta = 0.3\n",
        "qc = QuantumCircuit(n)\n",
        "for i in range(n):\n",
        "    qc.rx(theta, i)\n",
        "for i in range(n - 1):\n",
        "    qc.cx(i, i + 1)\n",
        "\n",
        "# 4. Definizione del canale di rumore personalizzato\n",
        "GHZ = np.zeros((d, 1), dtype=complex)\n",
        "GHZ[0] = 1 / np.sqrt(2)\n",
        "GHZ[-1] = 1 / np.sqrt(2)\n",
        "\n",
        "K1 = np.sqrt(1 - p) * np.eye(d)\n",
        "K2_list = []\n",
        "for i in range(d):\n",
        "    ket_i = np.zeros((d, 1), dtype=complex)\n",
        "    ket_i[i, 0] = 1.0\n",
        "    K2 = np.sqrt(p / d) * np.dot(GHZ, ket_i.conj().T)\n",
        "    K2_list.append(K2)\n",
        "kraus_ops = [K1] + K2_list\n",
        "\n",
        "noise_error = QuantumError(kraus_ops)\n",
        "noise_model = NoiseModel()\n",
        "noise_model.add_all_qubit_quantum_error(noise_error, ['id'])\n",
        "\n",
        "for i in range(n):\n",
        "    qc.id(i)\n",
        "\n",
        "print(\"\\nCircuito ansatz con rumore:\")\n",
        "print(qc.draw())\n",
        "\n",
        "# 5. Simulazione del circuito con il noise model\n",
        "backend = Aer.get_backend('qasm_simulator')\n",
        "job = execute(qc, backend, noise_model=noise_model, shots=1024, parameter_binds=[{theta: 0.5}])\n",
        "result = job.result()\n",
        "counts = result.get_counts(qc)\n",
        "print(\"\\nRisultati della simulazione (counts):\", counts)\n",
        "\n",
        "# (Opzionale) Simulazione dello statevector finale con il noise model\n",
        "backend_sv = Aer.get_backend('statevector_simulator')\n",
        "job_sv = execute(qc, backend_sv, noise_model=noise_model, parameter_binds=[{theta: 0.5}])\n",
        "result_sv = job_sv.result()\n",
        "statevector = result_sv.get_statevector(qc)\n",
        "print(\"\\nStatevector finale (con rumore):\\n\", statevector)\n"
      ]
    },
    {
      "cell_type": "code",
      "execution_count": null,
      "metadata": {
        "id": "IERsYlzazaae"
      },
      "outputs": [],
      "source": []
    }
  ],
  "metadata": {
    "kernelspec": {
      "display_name": "base",
      "language": "python",
      "name": "python3"
    },
    "language_info": {
      "codemirror_mode": {
        "name": "ipython",
        "version": 3
      },
      "file_extension": ".py",
      "mimetype": "text/x-python",
      "name": "python",
      "nbconvert_exporter": "python",
      "pygments_lexer": "ipython3",
      "version": "3.11.4"
    },
    "colab": {
      "provenance": []
    }
  },
  "nbformat": 4,
  "nbformat_minor": 0
}