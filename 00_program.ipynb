{
  "cells": [
    {
      "cell_type": "markdown",
      "metadata": {
        "id": "Ftv_FWcCzme7"
      },
      "source": [
        "BLOCCO 1\n",
        "\n",
        "\n",
        "\n"
      ]
    },
    {
      "cell_type": "code",
      "execution_count": null,
      "metadata": {
        "colab": {
          "base_uri": "https://localhost:8080/",
          "height": 462
        },
        "id": "cOCQkjAxzmfA",
        "outputId": "e111afda-6db2-4a34-db63-f7a3ae69f3db"
      },
      "outputs": [
        {
          "output_type": "stream",
          "name": "stdout",
          "text": [
            "Osservabile H generato:\n",
            " [[ 4.5  0.   0.   0. ]\n",
            " [ 0.  -4.5  0.   0. ]\n",
            " [ 0.   0.  -4.5  0. ]\n",
            " [ 0.   0.   0.   4.5]]\n"
          ]
        },
        {
          "output_type": "error",
          "ename": "NoiseError",
          "evalue": "\"Invalid type of input is found around '[[0.89442719 0.         0.         0.        ]\\n [0.         0.89442719 0.         0.        ]\\n [0.         0.         0.89442719 0.        ]\\n [0.         0.         0.         0.89442719]]'\"",
          "traceback": [
            "\u001b[0;31m---------------------------------------------------------------------------\u001b[0m",
            "\u001b[0;31mNoiseError\u001b[0m                                Traceback (most recent call last)",
            "\u001b[0;32m<ipython-input-22-451d096bac00>\u001b[0m in \u001b[0;36m<cell line: 0>\u001b[0;34m()\u001b[0m\n\u001b[1;32m     45\u001b[0m \u001b[0mkraus_ops\u001b[0m \u001b[0;34m=\u001b[0m \u001b[0;34m[\u001b[0m\u001b[0mK1\u001b[0m\u001b[0;34m]\u001b[0m \u001b[0;34m+\u001b[0m \u001b[0mK2_list\u001b[0m\u001b[0;34m\u001b[0m\u001b[0;34m\u001b[0m\u001b[0m\n\u001b[1;32m     46\u001b[0m \u001b[0;34m\u001b[0m\u001b[0m\n\u001b[0;32m---> 47\u001b[0;31m \u001b[0mnoise_error\u001b[0m \u001b[0;34m=\u001b[0m \u001b[0mQuantumError\u001b[0m\u001b[0;34m(\u001b[0m\u001b[0mkraus_ops\u001b[0m\u001b[0;34m)\u001b[0m\u001b[0;34m\u001b[0m\u001b[0;34m\u001b[0m\u001b[0m\n\u001b[0m\u001b[1;32m     48\u001b[0m \u001b[0mnoise_model\u001b[0m \u001b[0;34m=\u001b[0m \u001b[0mNoiseModel\u001b[0m\u001b[0;34m(\u001b[0m\u001b[0;34m)\u001b[0m\u001b[0;34m\u001b[0m\u001b[0;34m\u001b[0m\u001b[0m\n\u001b[1;32m     49\u001b[0m \u001b[0mnoise_model\u001b[0m\u001b[0;34m.\u001b[0m\u001b[0madd_all_qubit_quantum_error\u001b[0m\u001b[0;34m(\u001b[0m\u001b[0mnoise_error\u001b[0m\u001b[0;34m,\u001b[0m \u001b[0;34m[\u001b[0m\u001b[0;34m'id'\u001b[0m\u001b[0;34m]\u001b[0m\u001b[0;34m)\u001b[0m\u001b[0;34m\u001b[0m\u001b[0;34m\u001b[0m\u001b[0m\n",
            "\u001b[0;32m/usr/local/lib/python3.11/dist-packages/qiskit_aer/noise/errors/quantum_error.py\u001b[0m in \u001b[0;36m__init__\u001b[0;34m(self, noise_ops)\u001b[0m\n\u001b[1;32m    109\u001b[0m         \u001b[0;32mfor\u001b[0m \u001b[0mpair\u001b[0m \u001b[0;32min\u001b[0m \u001b[0mnoise_ops\u001b[0m\u001b[0;34m:\u001b[0m\u001b[0;34m\u001b[0m\u001b[0;34m\u001b[0m\u001b[0m\n\u001b[1;32m    110\u001b[0m             \u001b[0;32mif\u001b[0m \u001b[0;32mnot\u001b[0m \u001b[0misinstance\u001b[0m\u001b[0;34m(\u001b[0m\u001b[0mpair\u001b[0m\u001b[0;34m,\u001b[0m \u001b[0mtuple\u001b[0m\u001b[0;34m)\u001b[0m \u001b[0;32mor\u001b[0m \u001b[0mlen\u001b[0m\u001b[0;34m(\u001b[0m\u001b[0mpair\u001b[0m\u001b[0;34m)\u001b[0m \u001b[0;34m!=\u001b[0m \u001b[0;36m2\u001b[0m\u001b[0;34m:\u001b[0m\u001b[0;34m\u001b[0m\u001b[0;34m\u001b[0m\u001b[0m\n\u001b[0;32m--> 111\u001b[0;31m                 \u001b[0;32mraise\u001b[0m \u001b[0mNoiseError\u001b[0m\u001b[0;34m(\u001b[0m\u001b[0;34mf\"Invalid type of input is found around '{pair}'\"\u001b[0m\u001b[0;34m)\u001b[0m\u001b[0;34m\u001b[0m\u001b[0;34m\u001b[0m\u001b[0m\n\u001b[0m\u001b[1;32m    112\u001b[0m             \u001b[0m_\u001b[0m\u001b[0;34m,\u001b[0m \u001b[0mp\u001b[0m \u001b[0;34m=\u001b[0m \u001b[0mpair\u001b[0m  \u001b[0;31m# pylint: disable=invalid-name\u001b[0m\u001b[0;34m\u001b[0m\u001b[0;34m\u001b[0m\u001b[0m\n\u001b[1;32m    113\u001b[0m             \u001b[0;32mif\u001b[0m \u001b[0;32mnot\u001b[0m \u001b[0misinstance\u001b[0m\u001b[0;34m(\u001b[0m\u001b[0mp\u001b[0m\u001b[0;34m,\u001b[0m \u001b[0mnumbers\u001b[0m\u001b[0;34m.\u001b[0m\u001b[0mReal\u001b[0m\u001b[0;34m)\u001b[0m\u001b[0;34m:\u001b[0m\u001b[0;34m\u001b[0m\u001b[0;34m\u001b[0m\u001b[0m\n",
            "\u001b[0;31mNoiseError\u001b[0m: \"Invalid type of input is found around '[[0.89442719 0.         0.         0.        ]\\n [0.         0.89442719 0.         0.        ]\\n [0.         0.         0.89442719 0.        ]\\n [0.         0.         0.         0.89442719]]'\""
          ]
        }
      ],
      "source": [
        "from qiskit_aer.noise import QuantumError, NoiseModel\n",
        "\n",
        "# 1. Input: numero di qubit e probabilità di rumore\n",
        "n = 2\n",
        "p = 0.2\n",
        "\n",
        "# 2. Genera l'osservabile H\n",
        "h = 9 / n\n",
        "d = 2 ** n  # dimensione dello spazio degli stati\n",
        "Z = np.array([[1, 0], [0, -1]])\n",
        "I = np.eye(2)\n",
        "\n",
        "H_mat = np.zeros((d, d))\n",
        "for k in range(0, n - 1, 2):\n",
        "    op = 1\n",
        "    for qubit in range(n):\n",
        "        if qubit == k or qubit == k + 1:\n",
        "            op = np.kron(op, Z)\n",
        "        else:\n",
        "            op = np.kron(op, I)\n",
        "    H_mat += op\n",
        "H_mat = h * H_mat\n",
        "print(\"Osservabile H generato:\\n\", H_mat)\n",
        "\n",
        "# 3. Creazione del circuito ansatz semplice\n",
        "theta = 0.3\n",
        "qc = QuantumCircuit(n)\n",
        "for i in range(n):\n",
        "    qc.rx(theta, i)\n",
        "for i in range(n - 1):\n",
        "    qc.cx(i, i + 1)\n",
        "\n",
        "# 4. Definizione del canale di rumore personalizzato\n",
        "GHZ = np.zeros((d, 1), dtype=complex)\n",
        "GHZ[0] = 1 / np.sqrt(2)\n",
        "GHZ[-1] = 1 / np.sqrt(2)\n",
        "\n",
        "K1 = np.sqrt(1 - p) * np.eye(d)\n",
        "K2_list = []\n",
        "for i in range(d):\n",
        "    ket_i = np.zeros((d, 1), dtype=complex)\n",
        "    ket_i[i, 0] = 1.0\n",
        "    K2 = np.sqrt(p / d) * np.dot(GHZ, ket_i.conj().T)\n",
        "    K2_list.append(K2)\n",
        "kraus_ops = [K1] + K2_list\n",
        "\n",
        "noise_error = QuantumError(kraus_ops)\n",
        "noise_model = NoiseModel()\n",
        "noise_model.add_all_qubit_quantum_error(noise_error, ['id'])\n",
        "\n",
        "for i in range(n):\n",
        "    qc.id(i)\n",
        "\n",
        "print(\"\\nCircuito ansatz con rumore:\")\n",
        "print(qc.draw())\n",
        "\n",
        "# 5. Simulazione del circuito con il noise model\n",
        "backend = Aer.get_backend('qasm_simulator')\n",
        "job = execute(qc, backend, noise_model=noise_model, shots=1024, parameter_binds=[{theta: 0.5}])\n",
        "result = job.result()\n",
        "counts = result.get_counts(qc)\n",
        "print(\"\\nRisultati della simulazione (counts):\", counts)\n",
        "\n",
        "# (Opzionale) Simulazione dello statevector finale con il noise model\n",
        "backend_sv = Aer.get_backend('statevector_simulator')\n",
        "job_sv = execute(qc, backend_sv, noise_model=noise_model, parameter_binds=[{theta: 0.5}])\n",
        "result_sv = job_sv.result()\n",
        "statevector = result_sv.get_statevector(qc)\n",
        "print(\"\\nStatevector finale (con rumore):\\n\", statevector)\n"
      ]
    },
    {
      "cell_type": "markdown",
      "source": [
        "BLOCCO 2"
      ],
      "metadata": {
        "id": "0XhMRITDn5fu"
      }
    },
    {
      "cell_type": "code",
      "execution_count": 21,
      "metadata": {
        "colab": {
          "base_uri": "https://localhost:8080/",
          "height": 734
        },
        "id": "cxtlJshozme8",
        "outputId": "703d6cce-be11-4bb7-a6b0-7b1e03e879c2"
      },
      "outputs": [
        {
          "output_type": "stream",
          "name": "stdout",
          "text": [
            "Hamiltoniano W:\n",
            "SparsePauliOp(['ZZII', 'IZZI', 'IIZZ', 'ZIIZ'],\n",
            "              coeffs=[4.+0.j, 4.+0.j, 4.+0.j, 4.+0.j])\n"
          ]
        },
        {
          "output_type": "display_data",
          "data": {
            "text/plain": [
              "<IPython.core.display.Latex object>"
            ],
            "text/latex": "$\\rho = \\left(\\begin{matrix}0.08-0.00j & 0.00-0.01j & \\cdots & 0.02+0.01j \\0.00+0.01j & 0.04+0.00j & \\cdots & -0.01-0.00j \\\\vdots & \\vdots & \\ddots & \\vdots \\\\0.02-0.01j & -0.01+0.00j & \\cdots & 0.02-0.00j\\end{matrix}\\right)$"
          },
          "metadata": {}
        },
        {
          "output_type": "stream",
          "name": "stdout",
          "text": [
            "Il valore della traccia L è: 0.25387+0.00000j\n",
            "\n",
            "Circuito con la misura e il punto di calcolo di rho:\n",
            "global phase: 5.3469\n",
            "     ┌──────────────────────────┐┌────────┐               ┌───┐          »\n",
            "q_0: ┤ U3(0.80152,-1.1558,-π/2) ├┤0       ├──■────■───────┤ X ├───────■──»\n",
            "     ├─────────────────────────┬┘│        │┌─┴─┐  │       └─┬─┘┌───┐  │  »\n",
            "q_1: ┤ U3(1.5075,-1.0359,-π/2) ├─┤1       ├┤ X ├──┼────■────┼──┤ X ├──┼──»\n",
            "     ├─────────────────────────┤ │  kraus │├───┤┌─┴─┐  │    │  └─┬─┘┌─┴─┐»\n",
            "q_2: ┤ U3(2.0729,-0.43575,π/2) ├─┤2       ├┤ X ├┤ X ├──┼────■────┼──┤ X ├»\n",
            "     └┬────────────────────────┤ │        │└─┬─┘└───┘┌─┴─┐       │  └───┘»\n",
            "q_3: ─┤ U3(1.8166,2.8978,-π/2) ├─┤3       ├──■───────┤ X ├───────■───────»\n",
            "      └────────────────────────┘ └────────┘          └───┘               »\n",
            "c: 4/════════════════════════════════════════════════════════════════════»\n",
            "                                                                         »\n",
            "«     ┌───────────────────────┐                           ┌────────┐          »\n",
            "«q_0: ┤ U3(1.0627,1.6613,π/2) ├───────────────────────────┤0       ├──■────■──»\n",
            "«     └───────────────────────┘┌─────────────────────────┐│        │┌─┴─┐  │  »\n",
            "«q_1: ────────────■────────────┤ U3(2.7908,-0.5037,-π/2) ├┤1       ├┤ X ├──┼──»\n",
            "«                 │            └┬────────────────────────┤│  kraus │├───┤┌─┴─┐»\n",
            "«q_2: ────────────┼─────────────┤ U3(2.5816,2.2033,-π/2) ├┤2       ├┤ X ├┤ X ├»\n",
            "«               ┌─┴─┐           └┬──────────────────────┬┘│        │└─┬─┘└───┘»\n",
            "«q_3: ──────────┤ X ├────────────┤ U3(1.6933,1.383,π/2) ├─┤3       ├──■───────»\n",
            "«               └───┘            └──────────────────────┘ └────────┘          »\n",
            "«c: 4/════════════════════════════════════════════════════════════════════════»\n",
            "«                                                                             »\n",
            "«          ┌───┐               ┌─┐         \n",
            "«q_0: ─────┤ X ├───────■───────┤M├─────────\n",
            "«          └─┬─┘┌───┐  │       └╥┘┌─┐      \n",
            "«q_1: ──■────┼──┤ X ├──┼────■───╫─┤M├──────\n",
            "«       │    │  └─┬─┘┌─┴─┐  │   ║ └╥┘┌─┐   \n",
            "«q_2: ──┼────■────┼──┤ X ├──┼───╫──╫─┤M├───\n",
            "«     ┌─┴─┐       │  └───┘┌─┴─┐ ║  ║ └╥┘┌─┐\n",
            "«q_3: ┤ X ├───────■───────┤ X ├─╫──╫──╫─┤M├\n",
            "«     └───┘               └───┘ ║  ║  ║ └╥┘\n",
            "«c: 4/══════════════════════════╩══╩══╩══╩═\n",
            "«                               0  1  2  3 \n"
          ]
        }
      ],
      "source": [
        "import qiskit as qc\n",
        "from qiskit_aer import Aer\n",
        "import numpy as np\n",
        "import matplotlib.pyplot as plt\n",
        "from qiskit import QuantumCircuit, transpile\n",
        "from qiskit.quantum_info import DensityMatrix, Kraus, Operator, SparsePauliOp\n",
        "from IPython.display import display, Latex\n",
        "\n",
        "# Parametri\n",
        "n = 4  # Numero di qubit\n",
        "shots = 10000  # Numero di esecuzioni\n",
        "L_reps = 2  # Numero di ripetizioni del circuito\n",
        "p = 0.1  # Probabilità di applicare l'operatore di Kraus\n",
        "h = 1  # Coefficiente nell'Hamiltoniano\n",
        "\n",
        "# Funzione per generare parametri casuali\n",
        "def generate_random_parameters(n):\n",
        "    return 2 * np.pi * np.random.rand(2 * n)\n",
        "\n",
        "# Funzione per creare la catena di CNOT come circuito\n",
        "def create_cnot_chain_circuit(n):\n",
        "    cnot_circuit = QuantumCircuit(n)\n",
        "    for i in range(n - 1):\n",
        "        cnot_circuit.cx(i, i + 1)\n",
        "    return cnot_circuit\n",
        "\n",
        "# Costruzione della matrice per la catena di CNOT\n",
        "cnot_circuit = create_cnot_chain_circuit(n)\n",
        "cnot_operator = Operator(cnot_circuit)\n",
        "\n",
        "# Definizione degli operatori di Kraus\n",
        "I_n = np.eye(2**n)  # Identità su n qubit\n",
        "K0 = np.sqrt(1 - p) * I_n\n",
        "K1 = np.sqrt(p) * cnot_operator.data  # Matrice della catena di CNOT\n",
        "kraus_channel = Kraus([K0, K1])  # Creazione del canale di Kraus\n",
        "\n",
        "# Creazione di W (Hamiltoniano)\n",
        "pauli_strings = []\n",
        "coefficients = []\n",
        "\n",
        "for k in range(n):\n",
        "    coeff = h * 2**(n / 2)  # Coefficiente del termine\n",
        "    coefficients.append(coeff)\n",
        "\n",
        "    # Stringa di Pauli per Z_k ⊗ Z_{k+1}\n",
        "    pauli_string = ['I'] * n\n",
        "    pauli_string[k] = 'Z'  # Z_k\n",
        "    pauli_string[(k + 1) % n] = 'Z'  # Z_{k+1} (periodico)\n",
        "    pauli_strings.append(\"\".join(pauli_string))\n",
        "\n",
        "# Creazione dell'Hamiltoniano come SparsePauliOp\n",
        "W = SparsePauliOp(pauli_strings, coeffs=np.array(coefficients, dtype=complex))\n",
        "\n",
        "# Mostra l'Hamiltoniano\n",
        "print(\"Hamiltoniano W:\")\n",
        "print(W)\n",
        "\n",
        "# Creazione del circuito quantistico\n",
        "qc = QuantumCircuit(n, n)\n",
        "\n",
        "# Ripeti il circuito L volte\n",
        "for _ in range(L_reps):\n",
        "    # Genera parametri casuali ad ogni iterazione\n",
        "    parameters = generate_random_parameters(n)\n",
        "\n",
        "    # Applica rotazioni\n",
        "    for i in range(n):\n",
        "        qc.rx(parameters[2 * i], i)\n",
        "        qc.rz(parameters[2 * i + 1], i)\n",
        "\n",
        "    # Applica il canale di Kraus\n",
        "    qc.append(kraus_channel, list(range(n)))\n",
        "\n",
        "    # Applica le operazioni CNOT personalizzate\n",
        "    qc.cx(0, 1)\n",
        "    qc.cx(3, 2)\n",
        "    qc.cx(0, 2)\n",
        "    qc.cx(2, 0)\n",
        "    qc.cx(0, 2)\n",
        "    qc.cx(1, 3)\n",
        "    qc.cx(3, 1)\n",
        "    qc.cx(1, 3)\n",
        "\n",
        "# Creazione della matrice densità finale\n",
        "rho = DensityMatrix.from_instruction(qc)\n",
        "\n",
        "# Visualizzare la matrice densità finale\n",
        "latex_rho = r\"$\\rho = \\left(\\begin{matrix}\" + \\\n",
        "    f\"{rho.data[0, 0]:.2f} & {rho.data[0, 1]:.2f} & \\cdots & {rho.data[0, -1]:.2f} \\\\\" + \\\n",
        "    f\"{rho.data[1, 0]:.2f} & {rho.data[1, 1]:.2f} & \\cdots & {rho.data[1, -1]:.2f} \\\\\" + \\\n",
        "    r\"\\vdots & \\vdots & \\ddots & \\vdots \\\\\" + \\\n",
        "    f\"{rho.data[-1, 0]:.2f} & {rho.data[-1, 1]:.2f} & \\cdots & {rho.data[-1, -1]:.2f}\" + \\\n",
        "    r\"\\end{matrix}\\right)$\"\n",
        "display(Latex(latex_rho))\n",
        "\n",
        "# Misura dei qubit\n",
        "qc.measure(range(n), range(n))\n",
        "\n",
        "# Simulazione\n",
        "simulator = Aer.get_backend('aer_simulator')\n",
        "qc = transpile(qc, simulator)\n",
        "result = simulator.run(qc, shots=shots).result()\n",
        "\n",
        "# Calcolo della traccia L = Tr(W * rho)\n",
        "# Convertiamo W in una matrice densa e calcoliamo il prodotto con rho\n",
        "W_matrix = W.to_matrix()\n",
        "L = np.trace(np.dot(W_matrix, rho.data))\n",
        "\n",
        "# Stampa del risultato\n",
        "print(f\"Il valore della traccia L è: {L:.5f}\")\n",
        "\n",
        "# Mostra il circuito\n",
        "print(\"\\nCircuito con la misura e il punto di calcolo di rho:\")\n",
        "print(qc.draw(output=\"text\"))"
      ]
    }
  ],
  "metadata": {
    "kernelspec": {
      "display_name": "base",
      "language": "python",
      "name": "python3"
    },
    "language_info": {
      "codemirror_mode": {
        "name": "ipython",
        "version": 3
      },
      "file_extension": ".py",
      "mimetype": "text/x-python",
      "name": "python",
      "nbconvert_exporter": "python",
      "pygments_lexer": "ipython3",
      "version": "3.11.4"
    },
    "colab": {
      "provenance": []
    }
  },
  "nbformat": 4,
  "nbformat_minor": 0
}