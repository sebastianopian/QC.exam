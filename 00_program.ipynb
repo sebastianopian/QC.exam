{
 "cells": [
  {
   "cell_type": "code",
   "execution_count": 3,
   "metadata": {},
   "outputs": [
    {
     "ename": "UnboundLocalError",
     "evalue": "local variable 'depolarizing_error' referenced before assignment",
     "output_type": "error",
     "traceback": [
      "\u001b[0;31m---------------------------------------------------------------------------\u001b[0m",
      "\u001b[0;31mUnboundLocalError\u001b[0m                         Traceback (most recent call last)",
      "Cell \u001b[0;32mIn[3], line 49\u001b[0m\n\u001b[1;32m     47\u001b[0m \u001b[38;5;66;03m# Creazione del circuito e modello di rumore\u001b[39;00m\n\u001b[1;32m     48\u001b[0m qc \u001b[38;5;241m=\u001b[39m create_circuit()\n\u001b[0;32m---> 49\u001b[0m noise_model \u001b[38;5;241m=\u001b[39m \u001b[43mcreate_noise_model\u001b[49m\u001b[43m(\u001b[49m\u001b[43mp_amplitude\u001b[49m\u001b[43m,\u001b[49m\u001b[43m \u001b[49m\u001b[43mp_depolarizing\u001b[49m\u001b[43m)\u001b[49m\n\u001b[1;32m     51\u001b[0m \u001b[38;5;66;03m# Simulazione\u001b[39;00m\n\u001b[1;32m     52\u001b[0m counts \u001b[38;5;241m=\u001b[39m simulate_circuit(qc, noise_model, shots)\n",
      "Cell \u001b[0;32mIn[3], line 23\u001b[0m, in \u001b[0;36mcreate_noise_model\u001b[0;34m(p_amplitude, p_depolarizing)\u001b[0m\n\u001b[1;32m     20\u001b[0m noise_model\u001b[38;5;241m.\u001b[39madd_quantum_error(amplitude_error, [\u001b[38;5;124m'\u001b[39m\u001b[38;5;124mh\u001b[39m\u001b[38;5;124m'\u001b[39m], [\u001b[38;5;241m0\u001b[39m])  \u001b[38;5;66;03m# Applicare il rumore alla porta Hadamard\u001b[39;00m\n\u001b[1;32m     22\u001b[0m \u001b[38;5;66;03m# Depolarizing Error (aggiuntivo, unital)\u001b[39;00m\n\u001b[0;32m---> 23\u001b[0m depolarizing_error \u001b[38;5;241m=\u001b[39m \u001b[43mdepolarizing_error\u001b[49m(p_depolarizing, \u001b[38;5;241m1\u001b[39m)\n\u001b[1;32m     24\u001b[0m noise_model\u001b[38;5;241m.\u001b[39madd_all_qubit_quantum_error(depolarizing_error, [\u001b[38;5;124m'\u001b[39m\u001b[38;5;124mmeasure\u001b[39m\u001b[38;5;124m'\u001b[39m])  \u001b[38;5;66;03m# Misura rumorosa\u001b[39;00m\n\u001b[1;32m     26\u001b[0m \u001b[38;5;28;01mreturn\u001b[39;00m noise_model\n",
      "\u001b[0;31mUnboundLocalError\u001b[0m: local variable 'depolarizing_error' referenced before assignment"
     ]
    }
   ],
   "source": [
    "import qiskit\n",
    "from qiskit import QuantumCircuit\n",
    "from qiskit_aer import AerSimulator\n",
    "from qiskit_aer.noise import (NoiseModel, amplitude_damping_error, depolarizing_error)\n",
    "import numpy as np\n",
    "\n",
    "# Definire il circuito quantistico\n",
    "def create_circuit():\n",
    "    qc = QuantumCircuit(1, 1)  # 1 qubit, 1 bit classico\n",
    "    qc.h(0)  # Porta Hadamard\n",
    "    qc.measure(0, 0)  # Misurazione\n",
    "    return qc\n",
    "\n",
    "# Creare un modello di rumore con amplitude damping (rumore non unital)\n",
    "def create_noise_model(p_amplitude, p_depolarizing):\n",
    "    noise_model = NoiseModel()\n",
    "    \n",
    "    # Amplitude Damping Error (non unital)\n",
    "    amplitude_error = amplitude_damping_error(p_amplitude)\n",
    "    noise_model.add_quantum_error(amplitude_error, ['h'], [0])  # Applicare il rumore alla porta Hadamard\n",
    "\n",
    "    # Depolarizing Error (aggiuntivo, unital)\n",
    "    depolarizing_error = depolarizing_error(p_depolarizing, 1)\n",
    "    noise_model.add_all_qubit_quantum_error(depolarizing_error, ['measure'])  # Misura rumorosa\n",
    "    \n",
    "    return noise_model\n",
    "\n",
    "# Simulazione con rumore\n",
    "def simulate_circuit(qc, noise_model, shots=1024):\n",
    "    simulator = AerSimulator(noise_model=noise_model)  # Simulatore Aer con rumore\n",
    "    result = execute(qc, simulator, shots=shots).result()\n",
    "    counts = result.get_counts()\n",
    "    return counts\n",
    "\n",
    "# Calcolo della varianza delle misurazioni\n",
    "def calculate_variance(counts, shots):\n",
    "    p0 = counts.get('0', 0) / shots\n",
    "    p1 = counts.get('1', 0) / shots\n",
    "    variance = p0 * (1 - p0) + p1 * (1 - p1)  # Varianza binomiale\n",
    "    return variance\n",
    "\n",
    "# Parametri\n",
    "p_amplitude = 0.1  # Probabilità di damping\n",
    "p_depolarizing = 0.02  # Probabilità di errore depolarizzante\n",
    "shots = 1024\n",
    "\n",
    "# Creazione del circuito e modello di rumore\n",
    "qc = create_circuit()\n",
    "noise_model = create_noise_model(p_amplitude, p_depolarizing)\n",
    "\n",
    "# Simulazione\n",
    "counts = simulate_circuit(qc, noise_model, shots)\n",
    "variance = calculate_variance(counts, shots)\n",
    "\n",
    "# Risultati\n",
    "print(\"Risultati della simulazione (con rumore):\", counts)\n",
    "print(\"Varianza delle misurazioni:\", variance)"
   ]
  },
  {
   "cell_type": "markdown",
   "metadata": {},
   "source": []
  }
 ],
 "metadata": {
  "kernelspec": {
   "display_name": "Python 3",
   "language": "python",
   "name": "python3"
  },
  "language_info": {
   "codemirror_mode": {
    "name": "ipython",
    "version": 3
   },
   "file_extension": ".py",
   "mimetype": "text/x-python",
   "name": "python",
   "nbconvert_exporter": "python",
   "pygments_lexer": "ipython3",
   "version": "3.9.6"
  }
 },
 "nbformat": 4,
 "nbformat_minor": 2
}
