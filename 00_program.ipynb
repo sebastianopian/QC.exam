{
  "cells": [
    {
      "cell_type": "markdown",
      "metadata": {
        "id": "Ftv_FWcCzme7"
      },
      "source": []
    },
    {
      "cell_type": "code",
      "execution_count": 1,
      "metadata": {
        "id": "cxtlJshozme8",
        "outputId": "7dcf7034-8c0d-418c-c5e4-b051c0fb9cf1",
        "colab": {
          "base_uri": "https://localhost:8080/",
          "height": 699
        }
      },
      "outputs": [
        {
          "output_type": "display_data",
          "data": {
            "text/plain": [
              "<Figure size 500x500 with 1 Axes>"
            ],
            "image/png": "[encoded data removed]"
          },
          "metadata": {}
        },
        {
          "output_type": "execute_result",
          "data": {
            "text/plain": [
              "     ┌─────────┐                                   ┌────────┐┌─┐               \n",
              "q_0: ┤ Rx(0.2) ├──■─────────■──────────────────────┤0       ├┤M├───────────────\n",
              "     └──┬───┬──┘┌─┴─┐     ┌─┴─┐                    │        │└╥┘┌─┐            \n",
              "q_1: ───┤ H ├───┤ X ├──■──┤ X ├──■─────────────────┤1       ├─╫─┤M├────────────\n",
              "        └───┘   └───┘┌─┴─┐└───┘┌─┴─┐               │        │ ║ └╥┘┌─┐         \n",
              "q_2: ────────────────┤ X ├──■──┤ X ├──■────────────┤2       ├─╫──╫─┤M├─────────\n",
              "                     └───┘┌─┴─┐└───┘┌─┴─┐          │  kraus │ ║  ║ └╥┘┌─┐      \n",
              "q_3: ─────────────────────┤ X ├──■──┤ X ├──■───────┤3       ├─╫──╫──╫─┤M├──────\n",
              "                          └───┘┌─┴─┐└───┘┌─┴─┐     │        │ ║  ║  ║ └╥┘┌─┐   \n",
              "q_4: ──────────────────────────┤ X ├──■──┤ X ├──■──┤4       ├─╫──╫──╫──╫─┤M├───\n",
              "                               └───┘┌─┴─┐└───┘┌─┴─┐│        │ ║  ║  ║  ║ └╥┘┌─┐\n",
              "q_5: ───────────────────────────────┤ X ├─────┤ X ├┤5       ├─╫──╫──╫──╫──╫─┤M├\n",
              "                                    └───┘     └───┘└────────┘ ║  ║  ║  ║  ║ └╥┘\n",
              "c: 6/═════════════════════════════════════════════════════════╩══╩══╩══╩══╩══╩═\n",
              "                                                              0  1  2  3  4  5 "
            ],
            "text/html": [
              "<pre style=\"word-wrap: normal;white-space: pre;background: #fff0;line-height: 1.1;font-family: &quot;Courier New&quot;,Courier,monospace\">     ┌─────────┐                                   ┌────────┐┌─┐               \n",
              "q_0: ┤ Rx(0.2) ├──■─────────■──────────────────────┤0       ├┤M├───────────────\n",
              "     └──┬───┬──┘┌─┴─┐     ┌─┴─┐                    │        │└╥┘┌─┐            \n",
              "q_1: ───┤ H ├───┤ X ├──■──┤ X ├──■─────────────────┤1       ├─╫─┤M├────────────\n",
              "        └───┘   └───┘┌─┴─┐└───┘┌─┴─┐               │        │ ║ └╥┘┌─┐         \n",
              "q_2: ────────────────┤ X ├──■──┤ X ├──■────────────┤2       ├─╫──╫─┤M├─────────\n",
              "                     └───┘┌─┴─┐└───┘┌─┴─┐          │  kraus │ ║  ║ └╥┘┌─┐      \n",
              "q_3: ─────────────────────┤ X ├──■──┤ X ├──■───────┤3       ├─╫──╫──╫─┤M├──────\n",
              "                          └───┘┌─┴─┐└───┘┌─┴─┐     │        │ ║  ║  ║ └╥┘┌─┐   \n",
              "q_4: ──────────────────────────┤ X ├──■──┤ X ├──■──┤4       ├─╫──╫──╫──╫─┤M├───\n",
              "                               └───┘┌─┴─┐└───┘┌─┴─┐│        │ ║  ║  ║  ║ └╥┘┌─┐\n",
              "q_5: ───────────────────────────────┤ X ├─────┤ X ├┤5       ├─╫──╫──╫──╫──╫─┤M├\n",
              "                                    └───┘     └───┘└────────┘ ║  ║  ║  ║  ║ └╥┘\n",
              "c: 6/═════════════════════════════════════════════════════════╩══╩══╩══╩══╩══╩═\n",
              "                                                              0  1  2  3  4  5 </pre>"
            ]
          },
          "metadata": {},
          "execution_count": 1
        }
      ],
      "source": [
        "\n",
        "\n",
        "from qiskit_aer import Aer\n",
        "import numpy as np\n",
        "from qiskit import QuantumCircuit, transpile\n",
        "from qiskit.quantum_info import DensityMatrix, Kraus, SuperOp\n",
        "from qiskit.visualization import plot_histogram\n",
        "import matplotlib.pyplot as plt\n",
        "from qiskit_aer.noise import QuantumError, NoiseModel\n",
        "from IPython.display import display, Latex\n",
        "\n",
        "# Parametri\n",
        "n = 6 # Numero di qubit\n",
        "theta = 0.2\n",
        "shots = 10000  # Numero di esecuzioni\n",
        "\n",
        "def tensor_n(matrix, n):\n",
        "    \"\"\"\n",
        "    Costruisce il prodotto tensoriale di una matrice 'matrix' ripetuto n volte.\n",
        "\n",
        "    Args:\n",
        "        matrix (np.ndarray): Matrice 2x2.\n",
        "        n (int): Numero di ripetizioni (numero di qubit).\n",
        "\n",
        "    Returns:\n",
        "        np.ndarray: Matrice 2^n x 2^n ottenuta come prodotto tensoriale.\n",
        "    \"\"\"\n",
        "    result = np.array([[1.0]])\n",
        "    for _ in range(n):\n",
        "        result = np.kron(result, matrix)\n",
        "    return result\n",
        "\n",
        "# Parametri\n",
        "p = 0.3            # Probabilità di applicare l'operatore di Kraus\n",
        "\n",
        "# Matrice iniziale 2x2 (ad esempio, il gate Pauli X)\n",
        "A = np.array([[0, 1],\n",
        "              [1, 0]])\n",
        "\n",
        "# Costruiamo l'operatore su n qubit come prodotto tensoriale di A\n",
        "A_n = tensor_n(A, n)\n",
        "I_n = np.eye(2**n)\n",
        "\n",
        "# Definizione dei Kraus operatori:\n",
        "# - Con probabilità (1-p) il canale lascia lo stato invariato (identità)\n",
        "# - Con probabilità p viene applicato l'operatore A su tutti i qubit\n",
        "K0 = np.sqrt(1 - p) * I_n\n",
        "K1 = np.sqrt(p) * A_n\n",
        "\n",
        "# Creiamo il canale di Kraus a partire dai due operatori\n",
        "kraus_channel = Kraus([K0, K1])\n",
        "\n",
        "# Creazione del circuito quantistico\n",
        "qc = QuantumCircuit(n, n)\n",
        "qc.rx(theta, 0)\n",
        "qc.h(1)\n",
        "qc.cx(0, 1)\n",
        "for i in range(n - 2):\n",
        "    qc.cx(i+1, i+2)\n",
        "    qc.cx(i, i+1)\n",
        "\n",
        "\n",
        "qc.cx(n-2, n-1)\n",
        "qc.append(kraus_channel, list(range(n)))\n",
        "\n",
        "# Creazione della matrice densità iniziale\n",
        "rho = DensityMatrix.from_instruction(qc)\n",
        "\n",
        "\n",
        "\n",
        "# Misura dei qubit\n",
        "qc.measure(range(n), range(n))\n",
        "\n",
        "# Simulazione senza rumore (poiché stiamo già simulando il rumore attraverso Kraus)\n",
        "simulator = Aer.get_backend('aer_simulator')\n",
        "qc = transpile(qc, simulator)  # Ottimizzazione per il simulatore\n",
        "result = simulator.run(qc, shots=shots).result()  # Esegui la simulazione\n",
        "\n",
        "# Ottieni i conteggi dei risultati\n",
        "counts = result.get_counts()\n",
        "\n",
        "# Plot dei risultati\n",
        "plt.figure(figsize=(5, 5))\n",
        "plot_histogram(counts, color='royalblue')\n",
        "plt.title(f\"Risultati della simulazione con canale di Kraus per {n} qubit\")\n",
        "plt.show()\n",
        "\n",
        "# Visualizzazione del circuito\n",
        "qc.draw()"
      ]
    },
    {
      "cell_type": "code",
      "execution_count": 11,
      "metadata": {
        "id": "cOCQkjAxzmfA",
        "outputId": "1b86f0d6-48d0-426c-b3b1-b31c8aea2c20",
        "colab": {
          "base_uri": "https://localhost:8080/",
          "height": 436
        }
      },
      "outputs": [
        {
          "output_type": "stream",
          "name": "stdout",
          "text": [
            "Osservabile H generato:\n",
            " [[ 4.5  0.   0.   0. ]\n",
            " [ 0.  -4.5  0.   0. ]\n",
            " [ 0.   0.  -4.5  0. ]\n",
            " [ 0.   0.   0.   4.5]]\n"
          ]
        },
        {
          "output_type": "error",
          "ename": "NoiseError",
          "evalue": "\"Invalid type of input is found around '[[0.89442719 0.         0.         0.        ]\\n [0.         0.89442719 0.         0.        ]\\n [0.         0.         0.89442719 0.        ]\\n [0.         0.         0.         0.89442719]]'\"",
          "traceback": [
            "\u001b[0;31m---------------------------------------------------------------------------\u001b[0m",
            "\u001b[0;31mNoiseError\u001b[0m                                Traceback (most recent call last)",
            "\u001b[0;32m<ipython-input-11-451d096bac00>\u001b[0m in \u001b[0;36m<cell line: 0>\u001b[0;34m()\u001b[0m\n\u001b[1;32m     45\u001b[0m \u001b[0mkraus_ops\u001b[0m \u001b[0;34m=\u001b[0m \u001b[0;34m[\u001b[0m\u001b[0mK1\u001b[0m\u001b[0;34m]\u001b[0m \u001b[0;34m+\u001b[0m \u001b[0mK2_list\u001b[0m\u001b[0;34m\u001b[0m\u001b[0;34m\u001b[0m\u001b[0m\n\u001b[1;32m     46\u001b[0m \u001b[0;34m\u001b[0m\u001b[0m\n\u001b[0;32m---> 47\u001b[0;31m \u001b[0mnoise_error\u001b[0m \u001b[0;34m=\u001b[0m \u001b[0mQuantumError\u001b[0m\u001b[0;34m(\u001b[0m\u001b[0mkraus_ops\u001b[0m\u001b[0;34m)\u001b[0m\u001b[0;34m\u001b[0m\u001b[0;34m\u001b[0m\u001b[0m\n\u001b[0m\u001b[1;32m     48\u001b[0m \u001b[0mnoise_model\u001b[0m \u001b[0;34m=\u001b[0m \u001b[0mNoiseModel\u001b[0m\u001b[0;34m(\u001b[0m\u001b[0;34m)\u001b[0m\u001b[0;34m\u001b[0m\u001b[0;34m\u001b[0m\u001b[0m\n\u001b[1;32m     49\u001b[0m \u001b[0mnoise_model\u001b[0m\u001b[0;34m.\u001b[0m\u001b[0madd_all_qubit_quantum_error\u001b[0m\u001b[0;34m(\u001b[0m\u001b[0mnoise_error\u001b[0m\u001b[0;34m,\u001b[0m \u001b[0;34m[\u001b[0m\u001b[0;34m'id'\u001b[0m\u001b[0;34m]\u001b[0m\u001b[0;34m)\u001b[0m\u001b[0;34m\u001b[0m\u001b[0;34m\u001b[0m\u001b[0m\n",
            "\u001b[0;32m/usr/local/lib/python3.11/dist-packages/qiskit_aer/noise/errors/quantum_error.py\u001b[0m in \u001b[0;36m__init__\u001b[0;34m(self, noise_ops)\u001b[0m\n\u001b[1;32m    109\u001b[0m         \u001b[0;32mfor\u001b[0m \u001b[0mpair\u001b[0m \u001b[0;32min\u001b[0m \u001b[0mnoise_ops\u001b[0m\u001b[0;34m:\u001b[0m\u001b[0;34m\u001b[0m\u001b[0;34m\u001b[0m\u001b[0m\n\u001b[1;32m    110\u001b[0m             \u001b[0;32mif\u001b[0m \u001b[0;32mnot\u001b[0m \u001b[0misinstance\u001b[0m\u001b[0;34m(\u001b[0m\u001b[0mpair\u001b[0m\u001b[0;34m,\u001b[0m \u001b[0mtuple\u001b[0m\u001b[0;34m)\u001b[0m \u001b[0;32mor\u001b[0m \u001b[0mlen\u001b[0m\u001b[0;34m(\u001b[0m\u001b[0mpair\u001b[0m\u001b[0;34m)\u001b[0m \u001b[0;34m!=\u001b[0m \u001b[0;36m2\u001b[0m\u001b[0;34m:\u001b[0m\u001b[0;34m\u001b[0m\u001b[0;34m\u001b[0m\u001b[0m\n\u001b[0;32m--> 111\u001b[0;31m                 \u001b[0;32mraise\u001b[0m \u001b[0mNoiseError\u001b[0m\u001b[0;34m(\u001b[0m\u001b[0;34mf\"Invalid type of input is found around '{pair}'\"\u001b[0m\u001b[0;34m)\u001b[0m\u001b[0;34m\u001b[0m\u001b[0;34m\u001b[0m\u001b[0m\n\u001b[0m\u001b[1;32m    112\u001b[0m             \u001b[0m_\u001b[0m\u001b[0;34m,\u001b[0m \u001b[0mp\u001b[0m \u001b[0;34m=\u001b[0m \u001b[0mpair\u001b[0m  \u001b[0;31m# pylint: disable=invalid-name\u001b[0m\u001b[0;34m\u001b[0m\u001b[0;34m\u001b[0m\u001b[0m\n\u001b[1;32m    113\u001b[0m             \u001b[0;32mif\u001b[0m \u001b[0;32mnot\u001b[0m \u001b[0misinstance\u001b[0m\u001b[0;34m(\u001b[0m\u001b[0mp\u001b[0m\u001b[0;34m,\u001b[0m \u001b[0mnumbers\u001b[0m\u001b[0;34m.\u001b[0m\u001b[0mReal\u001b[0m\u001b[0;34m)\u001b[0m\u001b[0;34m:\u001b[0m\u001b[0;34m\u001b[0m\u001b[0;34m\u001b[0m\u001b[0m\n",
            "\u001b[0;31mNoiseError\u001b[0m: \"Invalid type of input is found around '[[0.89442719 0.         0.         0.        ]\\n [0.         0.89442719 0.         0.        ]\\n [0.         0.         0.89442719 0.        ]\\n [0.         0.         0.         0.89442719]]'\""
          ]
        }
      ],
      "source": [
        " from qiskit_aer.noise import QuantumError, NoiseModel\n",
        "\n",
        "# 1. Input: numero di qubit e probabilità di rumore\n",
        "n = 2\n",
        "p = 0.2\n",
        "\n",
        "# 2. Genera l'osservabile H\n",
        "h = 9 / n\n",
        "d = 2 ** n  # dimensione dello spazio degli stati\n",
        "Z = np.array([[1, 0], [0, -1]])\n",
        "I = np.eye(2)\n",
        "\n",
        "H_mat = np.zeros((d, d))\n",
        "for k in range(0, n - 1, 2):\n",
        "    op = 1\n",
        "    for qubit in range(n):\n",
        "        if qubit == k or qubit == k + 1:\n",
        "            op = np.kron(op, Z)\n",
        "        else:\n",
        "            op = np.kron(op, I)\n",
        "    H_mat += op\n",
        "H_mat = h * H_mat\n",
        "print(\"Osservabile H generato:\\n\", H_mat)\n",
        "\n",
        "# 3. Creazione del circuito ansatz semplice\n",
        "theta = 0.3\n",
        "qc = QuantumCircuit(n)\n",
        "for i in range(n):\n",
        "    qc.rx(theta, i)\n",
        "for i in range(n - 1):\n",
        "    qc.cx(i, i + 1)\n",
        "\n",
        "# 4. Definizione del canale di rumore personalizzato\n",
        "GHZ = np.zeros((d, 1), dtype=complex)\n",
        "GHZ[0] = 1 / np.sqrt(2)\n",
        "GHZ[-1] = 1 / np.sqrt(2)\n",
        "\n",
        "K1 = np.sqrt(1 - p) * np.eye(d)\n",
        "K2_list = []\n",
        "for i in range(d):\n",
        "    ket_i = np.zeros((d, 1), dtype=complex)\n",
        "    ket_i[i, 0] = 1.0\n",
        "    K2 = np.sqrt(p / d) * np.dot(GHZ, ket_i.conj().T)\n",
        "    K2_list.append(K2)\n",
        "kraus_ops = [K1] + K2_list\n",
        "\n",
        "noise_error = QuantumError(kraus_ops)\n",
        "noise_model = NoiseModel()\n",
        "noise_model.add_all_qubit_quantum_error(noise_error, ['id'])\n",
        "\n",
        "for i in range(n):\n",
        "    qc.id(i)\n",
        "\n",
        "print(\"\\nCircuito ansatz con rumore:\")\n",
        "print(qc.draw())\n",
        "\n",
        "# 5. Simulazione del circuito con il noise model\n",
        "backend = Aer.get_backend('qasm_simulator')\n",
        "job = execute(qc, backend, noise_model=noise_model, shots=1024, parameter_binds=[{theta: 0.5}])\n",
        "result = job.result()\n",
        "counts = result.get_counts(qc)\n",
        "print(\"\\nRisultati della simulazione (counts):\", counts)\n",
        "\n",
        "# (Opzionale) Simulazione dello statevector finale con il noise model\n",
        "backend_sv = Aer.get_backend('statevector_simulator')\n",
        "job_sv = execute(qc, backend_sv, noise_model=noise_model, parameter_binds=[{theta: 0.5}])\n",
        "result_sv = job_sv.result()\n",
        "statevector = result_sv.get_statevector(qc)\n",
        "print(\"\\nStatevector finale (con rumore):\\n\", statevector)\n"
      ]
    },
    {
      "cell_type": "code",
      "source": [],
      "metadata": {
        "id": "i930Cy8wP2SM"
      },
      "execution_count": null,
      "outputs": []
    },
    {
      "cell_type": "code",
      "execution_count": null,
      "metadata": {
        "id": "wD7g2F2ozmfB"
      },
      "outputs": [],
      "source": []
    }
  ],
  "metadata": {
    "kernelspec": {
      "display_name": "base",
      "language": "python",
      "name": "python3"
    },
    "language_info": {
      "codemirror_mode": {
        "name": "ipython",
        "version": 3
      },
      "file_extension": ".py",
      "mimetype": "text/x-python",
      "name": "python",
      "nbconvert_exporter": "python",
      "pygments_lexer": "ipython3",
      "version": "3.11.4"
    },
    "colab": {
      "provenance": []
    }
  },
  "nbformat": 4,
  "nbformat_minor": 0
}